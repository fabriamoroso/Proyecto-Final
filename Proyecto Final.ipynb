{
 "cells": [
  {
   "cell_type": "markdown",
   "id": "4eaf2ef4",
   "metadata": {},
   "source": [
    "# Entrega final curso Data Science Coder House\n",
    "Proyecto: Analisis de Correlacion del rinde de cosechas y distintas variables del cultivo\n",
    "    \n",
    "El objetivo de este proyecto es intentar mediante metodos que aplicaria un/a Data Scientist determinar la posibilidad de prediccion de una problematica.\n",
    "\n",
    "El proyecto contara de distintas etapas.                                                                                     \n",
    "1- Presentar problema el cual vamos a trabajar. Aqui se presentaran los datos que se encontraron y determinar cuales son los mas utiles y cuales no.                                                                                                         \n",
    "2- Armado de un Dataset con el cual procederemos a trabajar , se haran analisis exploratorios y se estableceran correlaciones entre los datos de haberlas.                                                                                                   \n",
    "3- Se utilizaran herramientas de Machine learning para predecir la variable que nos interesa saber.\n",
    "\n",
    "\n"
   ]
  },
  {
   "cell_type": "markdown",
   "id": "15b0efc4",
   "metadata": {},
   "source": [
    "# Problema\n",
    "Se intentara encontrar una correlacion entre el rinde de distintos cultivos con diversas variables obtenidas a traves de\n",
    "distintos informes proporcionados por entes guvernamentales, se trabajara con los datos de la Provincia de Buenos aires y \n",
    "se propondra un modelo de machine learning que permita hacer un analisis predictivo de cuanto sera el rinde de los mismos."
   ]
  },
  {
   "cell_type": "code",
   "execution_count": 1,
   "id": "92be1601",
   "metadata": {},
   "outputs": [],
   "source": [
    "#COMENZAMOS IMPORTANDO LAS LIBRERIAS NECESARIAS PARA EL COMIENZO (LUEGO SE AGREGARAN OTRAS SEGUN SE NECESITE)\n",
    "import pandas as pd\n",
    "import numpy as np\n",
    "import matplotlib.pyplot as plt\n",
    "import seaborn as sns\n",
    "import sklearn"
   ]
  },
  {
   "cell_type": "markdown",
   "id": "53a9c3a2",
   "metadata": {},
   "source": [
    "Luego comenzamos a hacer un analisis de nuestro dataset e intentamos comprender los datos y como se comportan."
   ]
  },
  {
   "cell_type": "code",
   "execution_count": 2,
   "id": "48165b25",
   "metadata": {},
   "outputs": [
    {
     "ename": "FileNotFoundError",
     "evalue": "[Errno 2] No such file or directory: 'Estimaciones (Provincia de BsAs 1987-2022).csv'",
     "output_type": "error",
     "traceback": [
      "\u001b[1;31m---------------------------------------------------------------------------\u001b[0m",
      "\u001b[1;31mFileNotFoundError\u001b[0m                         Traceback (most recent call last)",
      "Cell \u001b[1;32mIn[2], line 4\u001b[0m\n\u001b[0;32m      1\u001b[0m \u001b[38;5;66;03m#Se importa el dataset de estimaciones de la Provincia y se genera una separacion para unicamente ver el cultivo Girasol\u001b[39;00m\n\u001b[0;32m      2\u001b[0m \u001b[38;5;66;03m# y a partir de este cultivo intentar ver el comportamiento de los datos y asi tener una mejor comprension.\u001b[39;00m\n\u001b[1;32m----> 4\u001b[0m df_estimacion \u001b[38;5;241m=\u001b[39m pd\u001b[38;5;241m.\u001b[39mread_csv(\u001b[38;5;124m\"\u001b[39m\u001b[38;5;124mEstimaciones (Provincia de BsAs 1987-2022).csv\u001b[39m\u001b[38;5;124m\"\u001b[39m, encoding\u001b[38;5;241m=\u001b[39m\u001b[38;5;124m'\u001b[39m\u001b[38;5;124mlatin-1\u001b[39m\u001b[38;5;124m'\u001b[39m, sep\u001b[38;5;241m=\u001b[39m\u001b[38;5;124m\"\u001b[39m\u001b[38;5;124m;\u001b[39m\u001b[38;5;124m\"\u001b[39m)\n\u001b[0;32m      5\u001b[0m df_estimacion\n",
      "File \u001b[1;32m~\\anaconda3\\Lib\\site-packages\\pandas\\util\\_decorators.py:211\u001b[0m, in \u001b[0;36mdeprecate_kwarg.<locals>._deprecate_kwarg.<locals>.wrapper\u001b[1;34m(*args, **kwargs)\u001b[0m\n\u001b[0;32m    209\u001b[0m     \u001b[38;5;28;01melse\u001b[39;00m:\n\u001b[0;32m    210\u001b[0m         kwargs[new_arg_name] \u001b[38;5;241m=\u001b[39m new_arg_value\n\u001b[1;32m--> 211\u001b[0m \u001b[38;5;28;01mreturn\u001b[39;00m func(\u001b[38;5;241m*\u001b[39margs, \u001b[38;5;241m*\u001b[39m\u001b[38;5;241m*\u001b[39mkwargs)\n",
      "File \u001b[1;32m~\\anaconda3\\Lib\\site-packages\\pandas\\util\\_decorators.py:331\u001b[0m, in \u001b[0;36mdeprecate_nonkeyword_arguments.<locals>.decorate.<locals>.wrapper\u001b[1;34m(*args, **kwargs)\u001b[0m\n\u001b[0;32m    325\u001b[0m \u001b[38;5;28;01mif\u001b[39;00m \u001b[38;5;28mlen\u001b[39m(args) \u001b[38;5;241m>\u001b[39m num_allow_args:\n\u001b[0;32m    326\u001b[0m     warnings\u001b[38;5;241m.\u001b[39mwarn(\n\u001b[0;32m    327\u001b[0m         msg\u001b[38;5;241m.\u001b[39mformat(arguments\u001b[38;5;241m=\u001b[39m_format_argument_list(allow_args)),\n\u001b[0;32m    328\u001b[0m         \u001b[38;5;167;01mFutureWarning\u001b[39;00m,\n\u001b[0;32m    329\u001b[0m         stacklevel\u001b[38;5;241m=\u001b[39mfind_stack_level(),\n\u001b[0;32m    330\u001b[0m     )\n\u001b[1;32m--> 331\u001b[0m \u001b[38;5;28;01mreturn\u001b[39;00m func(\u001b[38;5;241m*\u001b[39margs, \u001b[38;5;241m*\u001b[39m\u001b[38;5;241m*\u001b[39mkwargs)\n",
      "File \u001b[1;32m~\\anaconda3\\Lib\\site-packages\\pandas\\io\\parsers\\readers.py:950\u001b[0m, in \u001b[0;36mread_csv\u001b[1;34m(filepath_or_buffer, sep, delimiter, header, names, index_col, usecols, squeeze, prefix, mangle_dupe_cols, dtype, engine, converters, true_values, false_values, skipinitialspace, skiprows, skipfooter, nrows, na_values, keep_default_na, na_filter, verbose, skip_blank_lines, parse_dates, infer_datetime_format, keep_date_col, date_parser, dayfirst, cache_dates, iterator, chunksize, compression, thousands, decimal, lineterminator, quotechar, quoting, doublequote, escapechar, comment, encoding, encoding_errors, dialect, error_bad_lines, warn_bad_lines, on_bad_lines, delim_whitespace, low_memory, memory_map, float_precision, storage_options)\u001b[0m\n\u001b[0;32m    935\u001b[0m kwds_defaults \u001b[38;5;241m=\u001b[39m _refine_defaults_read(\n\u001b[0;32m    936\u001b[0m     dialect,\n\u001b[0;32m    937\u001b[0m     delimiter,\n\u001b[1;32m   (...)\u001b[0m\n\u001b[0;32m    946\u001b[0m     defaults\u001b[38;5;241m=\u001b[39m{\u001b[38;5;124m\"\u001b[39m\u001b[38;5;124mdelimiter\u001b[39m\u001b[38;5;124m\"\u001b[39m: \u001b[38;5;124m\"\u001b[39m\u001b[38;5;124m,\u001b[39m\u001b[38;5;124m\"\u001b[39m},\n\u001b[0;32m    947\u001b[0m )\n\u001b[0;32m    948\u001b[0m kwds\u001b[38;5;241m.\u001b[39mupdate(kwds_defaults)\n\u001b[1;32m--> 950\u001b[0m \u001b[38;5;28;01mreturn\u001b[39;00m _read(filepath_or_buffer, kwds)\n",
      "File \u001b[1;32m~\\anaconda3\\Lib\\site-packages\\pandas\\io\\parsers\\readers.py:605\u001b[0m, in \u001b[0;36m_read\u001b[1;34m(filepath_or_buffer, kwds)\u001b[0m\n\u001b[0;32m    602\u001b[0m _validate_names(kwds\u001b[38;5;241m.\u001b[39mget(\u001b[38;5;124m\"\u001b[39m\u001b[38;5;124mnames\u001b[39m\u001b[38;5;124m\"\u001b[39m, \u001b[38;5;28;01mNone\u001b[39;00m))\n\u001b[0;32m    604\u001b[0m \u001b[38;5;66;03m# Create the parser.\u001b[39;00m\n\u001b[1;32m--> 605\u001b[0m parser \u001b[38;5;241m=\u001b[39m TextFileReader(filepath_or_buffer, \u001b[38;5;241m*\u001b[39m\u001b[38;5;241m*\u001b[39mkwds)\n\u001b[0;32m    607\u001b[0m \u001b[38;5;28;01mif\u001b[39;00m chunksize \u001b[38;5;129;01mor\u001b[39;00m iterator:\n\u001b[0;32m    608\u001b[0m     \u001b[38;5;28;01mreturn\u001b[39;00m parser\n",
      "File \u001b[1;32m~\\anaconda3\\Lib\\site-packages\\pandas\\io\\parsers\\readers.py:1442\u001b[0m, in \u001b[0;36mTextFileReader.__init__\u001b[1;34m(self, f, engine, **kwds)\u001b[0m\n\u001b[0;32m   1439\u001b[0m     \u001b[38;5;28mself\u001b[39m\u001b[38;5;241m.\u001b[39moptions[\u001b[38;5;124m\"\u001b[39m\u001b[38;5;124mhas_index_names\u001b[39m\u001b[38;5;124m\"\u001b[39m] \u001b[38;5;241m=\u001b[39m kwds[\u001b[38;5;124m\"\u001b[39m\u001b[38;5;124mhas_index_names\u001b[39m\u001b[38;5;124m\"\u001b[39m]\n\u001b[0;32m   1441\u001b[0m \u001b[38;5;28mself\u001b[39m\u001b[38;5;241m.\u001b[39mhandles: IOHandles \u001b[38;5;241m|\u001b[39m \u001b[38;5;28;01mNone\u001b[39;00m \u001b[38;5;241m=\u001b[39m \u001b[38;5;28;01mNone\u001b[39;00m\n\u001b[1;32m-> 1442\u001b[0m \u001b[38;5;28mself\u001b[39m\u001b[38;5;241m.\u001b[39m_engine \u001b[38;5;241m=\u001b[39m \u001b[38;5;28mself\u001b[39m\u001b[38;5;241m.\u001b[39m_make_engine(f, \u001b[38;5;28mself\u001b[39m\u001b[38;5;241m.\u001b[39mengine)\n",
      "File \u001b[1;32m~\\anaconda3\\Lib\\site-packages\\pandas\\io\\parsers\\readers.py:1735\u001b[0m, in \u001b[0;36mTextFileReader._make_engine\u001b[1;34m(self, f, engine)\u001b[0m\n\u001b[0;32m   1733\u001b[0m     \u001b[38;5;28;01mif\u001b[39;00m \u001b[38;5;124m\"\u001b[39m\u001b[38;5;124mb\u001b[39m\u001b[38;5;124m\"\u001b[39m \u001b[38;5;129;01mnot\u001b[39;00m \u001b[38;5;129;01min\u001b[39;00m mode:\n\u001b[0;32m   1734\u001b[0m         mode \u001b[38;5;241m+\u001b[39m\u001b[38;5;241m=\u001b[39m \u001b[38;5;124m\"\u001b[39m\u001b[38;5;124mb\u001b[39m\u001b[38;5;124m\"\u001b[39m\n\u001b[1;32m-> 1735\u001b[0m \u001b[38;5;28mself\u001b[39m\u001b[38;5;241m.\u001b[39mhandles \u001b[38;5;241m=\u001b[39m get_handle(\n\u001b[0;32m   1736\u001b[0m     f,\n\u001b[0;32m   1737\u001b[0m     mode,\n\u001b[0;32m   1738\u001b[0m     encoding\u001b[38;5;241m=\u001b[39m\u001b[38;5;28mself\u001b[39m\u001b[38;5;241m.\u001b[39moptions\u001b[38;5;241m.\u001b[39mget(\u001b[38;5;124m\"\u001b[39m\u001b[38;5;124mencoding\u001b[39m\u001b[38;5;124m\"\u001b[39m, \u001b[38;5;28;01mNone\u001b[39;00m),\n\u001b[0;32m   1739\u001b[0m     compression\u001b[38;5;241m=\u001b[39m\u001b[38;5;28mself\u001b[39m\u001b[38;5;241m.\u001b[39moptions\u001b[38;5;241m.\u001b[39mget(\u001b[38;5;124m\"\u001b[39m\u001b[38;5;124mcompression\u001b[39m\u001b[38;5;124m\"\u001b[39m, \u001b[38;5;28;01mNone\u001b[39;00m),\n\u001b[0;32m   1740\u001b[0m     memory_map\u001b[38;5;241m=\u001b[39m\u001b[38;5;28mself\u001b[39m\u001b[38;5;241m.\u001b[39moptions\u001b[38;5;241m.\u001b[39mget(\u001b[38;5;124m\"\u001b[39m\u001b[38;5;124mmemory_map\u001b[39m\u001b[38;5;124m\"\u001b[39m, \u001b[38;5;28;01mFalse\u001b[39;00m),\n\u001b[0;32m   1741\u001b[0m     is_text\u001b[38;5;241m=\u001b[39mis_text,\n\u001b[0;32m   1742\u001b[0m     errors\u001b[38;5;241m=\u001b[39m\u001b[38;5;28mself\u001b[39m\u001b[38;5;241m.\u001b[39moptions\u001b[38;5;241m.\u001b[39mget(\u001b[38;5;124m\"\u001b[39m\u001b[38;5;124mencoding_errors\u001b[39m\u001b[38;5;124m\"\u001b[39m, \u001b[38;5;124m\"\u001b[39m\u001b[38;5;124mstrict\u001b[39m\u001b[38;5;124m\"\u001b[39m),\n\u001b[0;32m   1743\u001b[0m     storage_options\u001b[38;5;241m=\u001b[39m\u001b[38;5;28mself\u001b[39m\u001b[38;5;241m.\u001b[39moptions\u001b[38;5;241m.\u001b[39mget(\u001b[38;5;124m\"\u001b[39m\u001b[38;5;124mstorage_options\u001b[39m\u001b[38;5;124m\"\u001b[39m, \u001b[38;5;28;01mNone\u001b[39;00m),\n\u001b[0;32m   1744\u001b[0m )\n\u001b[0;32m   1745\u001b[0m \u001b[38;5;28;01massert\u001b[39;00m \u001b[38;5;28mself\u001b[39m\u001b[38;5;241m.\u001b[39mhandles \u001b[38;5;129;01mis\u001b[39;00m \u001b[38;5;129;01mnot\u001b[39;00m \u001b[38;5;28;01mNone\u001b[39;00m\n\u001b[0;32m   1746\u001b[0m f \u001b[38;5;241m=\u001b[39m \u001b[38;5;28mself\u001b[39m\u001b[38;5;241m.\u001b[39mhandles\u001b[38;5;241m.\u001b[39mhandle\n",
      "File \u001b[1;32m~\\anaconda3\\Lib\\site-packages\\pandas\\io\\common.py:856\u001b[0m, in \u001b[0;36mget_handle\u001b[1;34m(path_or_buf, mode, encoding, compression, memory_map, is_text, errors, storage_options)\u001b[0m\n\u001b[0;32m    851\u001b[0m \u001b[38;5;28;01melif\u001b[39;00m \u001b[38;5;28misinstance\u001b[39m(handle, \u001b[38;5;28mstr\u001b[39m):\n\u001b[0;32m    852\u001b[0m     \u001b[38;5;66;03m# Check whether the filename is to be opened in binary mode.\u001b[39;00m\n\u001b[0;32m    853\u001b[0m     \u001b[38;5;66;03m# Binary mode does not support 'encoding' and 'newline'.\u001b[39;00m\n\u001b[0;32m    854\u001b[0m     \u001b[38;5;28;01mif\u001b[39;00m ioargs\u001b[38;5;241m.\u001b[39mencoding \u001b[38;5;129;01mand\u001b[39;00m \u001b[38;5;124m\"\u001b[39m\u001b[38;5;124mb\u001b[39m\u001b[38;5;124m\"\u001b[39m \u001b[38;5;129;01mnot\u001b[39;00m \u001b[38;5;129;01min\u001b[39;00m ioargs\u001b[38;5;241m.\u001b[39mmode:\n\u001b[0;32m    855\u001b[0m         \u001b[38;5;66;03m# Encoding\u001b[39;00m\n\u001b[1;32m--> 856\u001b[0m         handle \u001b[38;5;241m=\u001b[39m \u001b[38;5;28mopen\u001b[39m(\n\u001b[0;32m    857\u001b[0m             handle,\n\u001b[0;32m    858\u001b[0m             ioargs\u001b[38;5;241m.\u001b[39mmode,\n\u001b[0;32m    859\u001b[0m             encoding\u001b[38;5;241m=\u001b[39mioargs\u001b[38;5;241m.\u001b[39mencoding,\n\u001b[0;32m    860\u001b[0m             errors\u001b[38;5;241m=\u001b[39merrors,\n\u001b[0;32m    861\u001b[0m             newline\u001b[38;5;241m=\u001b[39m\u001b[38;5;124m\"\u001b[39m\u001b[38;5;124m\"\u001b[39m,\n\u001b[0;32m    862\u001b[0m         )\n\u001b[0;32m    863\u001b[0m     \u001b[38;5;28;01melse\u001b[39;00m:\n\u001b[0;32m    864\u001b[0m         \u001b[38;5;66;03m# Binary mode\u001b[39;00m\n\u001b[0;32m    865\u001b[0m         handle \u001b[38;5;241m=\u001b[39m \u001b[38;5;28mopen\u001b[39m(handle, ioargs\u001b[38;5;241m.\u001b[39mmode)\n",
      "\u001b[1;31mFileNotFoundError\u001b[0m: [Errno 2] No such file or directory: 'Estimaciones (Provincia de BsAs 1987-2022).csv'"
     ]
    }
   ],
   "source": [
    "#Se importa el dataset de estimaciones de la Provincia y se genera una separacion para unicamente ver el cultivo Girasol\n",
    "# y a partir de este cultivo intentar ver el comportamiento de los datos y asi tener una mejor comprension.\n",
    "\n",
    "df_estimacion = pd.read_csv(\"Estimaciones (Provincia de BsAs 1987-2022).csv\", encoding='latin-1', sep=\";\")\n",
    "df_estimacion\n",
    "\n"
   ]
  },
  {
   "cell_type": "code",
   "execution_count": null,
   "id": "33fffa9e",
   "metadata": {},
   "outputs": [],
   "source": [
    "girasol= df_estimacion.loc[:, 'Cultivo'] == 'Girasol'\n",
    "df_girasol=df_estimacion.loc[girasol]"
   ]
  },
  {
   "cell_type": "code",
   "execution_count": null,
   "id": "2e5f78c1",
   "metadata": {},
   "outputs": [],
   "source": [
    "#Traemos el data de Girasol, en el que usaremos unicamente la campaña 2021/22 para realizar una demostracion del analisis\n",
    "#general, pero en menor escala, y realizamos 2 correciones que nos serviran a futuro: ponemos de indice Departamento, ademas \n",
    "#convertimos la columna Rendimiento, de String a Float.\n",
    "\n",
    "girasol= df_girasol.loc[:, 'Campaña'] == '2021/22'\n",
    "df_uc=df_girasol.loc[girasol]\n",
    "df_uc.index = df_uc[\"Departamento\"]\n",
    "df_uc['Rendimiento'] = df_uc['Rendimiento'].astype(float)\n",
    "df_uc"
   ]
  },
  {
   "cell_type": "code",
   "execution_count": null,
   "id": "2b30f590",
   "metadata": {},
   "outputs": [],
   "source": [
    "#El primer grafico nos muestra un analisis que indica el Rendimiento en cada uno de los Departamentos, en la campaña 2021/22.\n",
    "#Al ser tantos departamentos, algunos nombres se sobreponen, estamos intentado distintas maneras de que se vea de buena manera\n",
    "\n",
    "fig, ax = plt.subplots(figsize=(50,15))\n",
    "ax.bar(df_uc[\"Departamento\"], df_uc['Rendimiento'])\n",
    "ax.set_title('Rendimiento por departamento campaña 2021/22',fontsize=35)\n",
    "ax.set_ylabel('Rendimiento',fontsize=35)\n",
    "ax.set_xlabel('Departamento',fontsize=35)\n",
    "ax.legend(fontsize=40) \n",
    "plt.xticks(rotation = 90)\n",
    "plt.xticks(fontsize = 25,weight='bold')\n",
    "plt.yticks(fontsize = 25, weight='bold')\n",
    "\n",
    "\n",
    "plt.show()"
   ]
  },
  {
   "cell_type": "code",
   "execution_count": null,
   "id": "84d0b294",
   "metadata": {},
   "outputs": [],
   "source": [
    "#Al igual que anteriormente, utilizaremos la campaña 2021/22 para hacer un analisis a menor escala de lo que sera el analisis\n",
    "#del proyecto final. En este caso generamos un data en el que nos muestra todos los cultivos, no solamente el Girasol, en ese\n",
    "#año.\n",
    "\n",
    "cultivo= df_estimacion.loc[:, 'Campaña'] == '2021/22'\n",
    "df_cultivo=df_estimacion.loc[cultivo]\n",
    "df_cultivo['Rendimiento'] = df_cultivo['Rendimiento'].astype(float)\n",
    "df_cultivo\n",
    "\n"
   ]
  },
  {
   "cell_type": "code",
   "execution_count": null,
   "id": "2c0f077b",
   "metadata": {},
   "outputs": [],
   "source": [
    "#El grafico muestra un analisis de cada cultivo en la campaña 2021/22, y su rendimiento en cada departamento, que no esta\n",
    "#diferenciado, ya que la intencion no es ver cada departamento, si no tener graficamente un promedio (ver donde hay mas puntos)\n",
    "#del rendimiento de cada cultivo en este año.\n",
    "\n",
    "fig, ax = plt.subplots(figsize=(30,15))  \n",
    "mapeo_colores = ax.scatter(df_cultivo['Cultivo'], df_cultivo['Rendimiento'])\n",
    "fig.colorbar(mapeo_colores)\n",
    "ax.set_title('Rendimiento Cultivo/Departamento')\n",
    "ax.set_xlabel(\"Cultivo\",fontsize=25)\n",
    "ax.set_ylabel('Rendimiento',fontsize=25)\n",
    "ax.legend(fontsize=25) \n",
    "plt.xticks(rotation = 60)\n",
    "plt.xticks(fontsize = 15, weight='bold')\n",
    "plt.yticks(fontsize = 15, weight='bold')\n",
    "\n",
    "plt.show()\n",
    "\n"
   ]
  },
  {
   "cell_type": "code",
   "execution_count": null,
   "id": "d331e679",
   "metadata": {},
   "outputs": [],
   "source": [
    "#Se genera el Df del departamento de Rivadavia, teniendo en cuenta unicamente la siembra de Girasol. \n",
    "\n",
    "girasol_est= df_girasol.loc[:, 'Departamento'] == 'RIVADAVIA'\n",
    "df_girasol_riv=df_girasol.loc[girasol_est]\n",
    "df_girasol_riv.index = df_girasol_riv[\"Campaña\"]\n",
    "df_girasol_riv['Rendimiento'] = df_girasol_riv['Rendimiento'].astype(float)\n"
   ]
  },
  {
   "cell_type": "code",
   "execution_count": null,
   "id": "ed20b45a",
   "metadata": {},
   "outputs": [],
   "source": [
    "#Se genera el Df del departamento de Saavedra, teniendo en cuenta unicamente la siembra de Girasol. \n",
    "\n",
    "girasol_est2= df_girasol.loc[:, 'Departamento'] == 'SAAVEDRA'\n",
    "df_girasol_saa=df_girasol.loc[girasol_est2]\n",
    "df_girasol_saa.index = df_girasol_saa[\"Campaña\"]\n",
    "df_girasol_saa['Rendimiento'] = df_girasol_saa['Rendimiento'].astype(float)\n",
    "df_girasol_saa.head()"
   ]
  },
  {
   "cell_type": "code",
   "execution_count": null,
   "id": "04099995",
   "metadata": {},
   "outputs": [],
   "source": [
    "#Se muestran los rendimientos en el transcurso del periodo entre las campañas 1987/88 y 2021/22 de los departamentos de\n",
    "#Rivadavia y Saavedra, en el que muestra una clara superioridad, exceptuando en 2 campañas, del depto. de Rivadavia. \n",
    "#Con esto se realizan 2 analisis bivariados sobre un mismo grafico, en el que el departamento no lo tomamos como un dato\n",
    "#analizado, ya que unicamente esta ahi de referencia.\n",
    "\n",
    "fig, ax = plt.subplots(figsize=(45, 20))  \n",
    "ax.plot(df_girasol_riv.index, df_girasol_riv['Rendimiento'], label='Rendimiento de Girasol en el depto. de Rivadavia')\n",
    "ax.plot(df_girasol_saa.index, df_girasol_saa['Rendimiento'], label='Rendimiento de Girasol en el depto. de Saavedra', color='C1')\n",
    "ax.set_xlabel('Año', fontsize=30)  \n",
    "ax.set_ylabel('Rendimiento', fontsize=30) \n",
    "ax.set_title('Rendimiento de Girasol en los deptos. de Rivadavia y Saavedra', fontsize=25)\n",
    "ax.legend(fontsize=30) \n",
    "plt.xticks(fontsize = 20, weight='bold')\n",
    "plt.xticks(rotation = 60)\n",
    "plt.yticks(fontsize = 20, weight='bold')\n",
    "plt.show()"
   ]
  },
  {
   "cell_type": "markdown",
   "id": "413171c0",
   "metadata": {},
   "source": [
    "Esta primera exploracion nos hizo dar cuenta como se conformaban los datos, cuales eran relevantes y que habia algunos que nos faltaban para terminar de entender ciertos comportamientos, por eso luego de esto se consiguio un dataset de clima de la provincia de dos regiones distintas, se tranformo y se adapto para cada tipo de cultivo teniendo en cuenta las precipitaciones recibidas durante su siembra (que es la principal variable climatica que afecta a los cultivos)."
   ]
  },
  {
   "cell_type": "markdown",
   "id": "12ea8f4b",
   "metadata": {},
   "source": [
    "Se consiguen 2 datos climaticos para dos zonas muy distintas geografica y climaticamente hablando, Junin (zona norte) y Tres \n",
    "Arroyos (zona sur). A partir de ahora se trabajan con dataset adaptados a estas localidades y sus cultivos, se pone como ejemplo uno de los tratamientos de datos y luego se pasa al Dataset final."
   ]
  },
  {
   "cell_type": "code",
   "execution_count": null,
   "id": "800d5151",
   "metadata": {},
   "outputs": [],
   "source": [
    "df = pd.read_csv(\"Estimaciones (Provincia de BsAs 1987-2022).csv\", encoding='latin-1', sep=\";\")\n",
    "df"
   ]
  },
  {
   "cell_type": "code",
   "execution_count": null,
   "id": "62893dd9",
   "metadata": {},
   "outputs": [],
   "source": [
    "df[\"Cultivo\"].value_counts()"
   ]
  },
  {
   "cell_type": "code",
   "execution_count": null,
   "id": "f400172b",
   "metadata": {},
   "outputs": [],
   "source": [
    "#Se eligen las zonas mas cercanas a Tres Arroyos \n",
    "df_TA= df[df.Departamento.isin([\"SAN CAYETANO\", \"ADOLFO GONZALES CHAVES\",\"CORONEL PRINGLES\",\"BENITO JUAREZ\",\"LAPRIDA\",\"CORONEL DORREGO\",\"TRES ARROYOS\"])]\n",
    "df_TA.sample(30)"
   ]
  },
  {
   "cell_type": "code",
   "execution_count": null,
   "id": "eb2bf5a3",
   "metadata": {},
   "outputs": [],
   "source": [
    "# Se borran las columnas con datos innecesarios\n",
    "df_TA= df_TA.drop(['Provincia', 'idProvincia',\"Departamento\"], axis=1)\n",
    "df_TA"
   ]
  },
  {
   "cell_type": "code",
   "execution_count": null,
   "id": "a32770d4",
   "metadata": {},
   "outputs": [],
   "source": [
    "#Se eligen los cultivos relevantes \n",
    "df_TA= df_TA[df_TA.Cultivo.isin([\"Alpiste\",\"Trigo candeal\",\"Cebada cervecera\",\"Arveja\", \"Avena\",\"Cebada total\",\"Centeno\",'Trigo total','Girasol','Maíz','Soja 1ra','Soja 2da','Sorgo'])]\n",
    "df_TA"
   ]
  },
  {
   "cell_type": "code",
   "execution_count": null,
   "id": "5646fd60",
   "metadata": {},
   "outputs": [],
   "source": [
    "# Se sacan todos los valores invalidos de todas las columnas si los hubiese\n",
    "df_TA['Rendimiento'].replace('SD', '0', inplace=True)\n",
    "df_TA['Sup. Sembrada'].replace('SD', '0', inplace=True)\n",
    "df_TA['Sup. Cosechada'].replace('SD', '0', inplace=True)\n",
    "df_TA['Producción'].replace('SD', '0', inplace=True)\n",
    "df_TA"
   ]
  },
  {
   "cell_type": "code",
   "execution_count": null,
   "id": "48bc0d83",
   "metadata": {},
   "outputs": [],
   "source": [
    "df_TA.rename(columns={\"Sup. Sembrada\":\"Sup_Sembrada\",\"Sup. Cosechada\":\"Sup_Cosechada\"}, inplace=True)"
   ]
  },
  {
   "cell_type": "code",
   "execution_count": null,
   "id": "734550e6",
   "metadata": {},
   "outputs": [],
   "source": [
    "#Se pasa a valor codificado la columna Cultivo\n",
    "df_TA=df_TA.replace({\"Alpiste\": 101, \"Arveja\": 102,'Avena': 103, 'Cebada cervecera': 105, 'Cebada total': 107,\n",
    "       'Centeno': 109, 'Girasol': 112, 'Maíz': 116, 'Soja 1ra': 124 , 'Soja 2da': 125, 'Sorgo': 127,\n",
    "       'Trigo candeal': 128, 'Trigo total': 129})\n",
    "df_TA"
   ]
  },
  {
   "cell_type": "code",
   "execution_count": null,
   "id": "418127be",
   "metadata": {},
   "outputs": [],
   "source": [
    "anio= lambda x: x[:4]\n",
    "df_TA[\"anio\"]= df_TA[\"Campaña\"].astype(str).map(anio)\n",
    "df_TA.anio = df_TA.anio.astype(float)\n",
    "df_TA"
   ]
  },
  {
   "cell_type": "markdown",
   "id": "18032318",
   "metadata": {},
   "source": [
    "Luego se prepara el set de datos de precipitaciones y se acomoda el tema de las columnas para que no haya valores duplicados o innecesarios, se termina de dar forma al dataset final."
   ]
  },
  {
   "cell_type": "code",
   "execution_count": null,
   "id": "ee99f7dd",
   "metadata": {},
   "outputs": [],
   "source": [
    "df_eta=pd.read_excel(\"tres_arroyos.xlsx\")\n",
    "df_eta=df_eta.replace({\"Alpiste\": 101, \"Arveja\": 102,'Avena': 103, 'Cebada cervecera': 105, 'Cebada total': 107,\n",
    "       'Centeno': 109, 'Girasol': 112, 'Maíz': 116, 'Soja 1ra': 124 , 'Soja 2da': 125, 'Sorgo': 127,\n",
    "       'Trigo candeal': 128, 'Trigo total': 129})\n",
    "df_eta"
   ]
  },
  {
   "cell_type": "code",
   "execution_count": null,
   "id": "cc8204d5",
   "metadata": {},
   "outputs": [],
   "source": [
    "df_cta=pd.read_excel(\"ClimaTA trabajado.xlsx\")\n",
    "df_cta=df_cta.rename(columns={\"Alpiste\": 101, \"Arveja\": 102,'avena': 103, 'cebada cervecera': 105, 'cebada': 107,\n",
    "       'centeno': 109, 'girasol': 112, 'Maiz': 116, 'soja 1': 124 , 'soja2': 125, 'Sorgo': 127,\n",
    "       'trigo candeal': 128, 'trigo': 129})\n",
    "df_cta"
   ]
  },
  {
   "cell_type": "code",
   "execution_count": null,
   "id": "0d920ab0",
   "metadata": {},
   "outputs": [],
   "source": [
    "#usamos la funcion .melt para rotar las columnas y que queden igual al dataframe del rendimiento\n",
    "df_cta=pd.melt(df_cta, id_vars = [\"anio\"])\n",
    "df_cta"
   ]
  },
  {
   "cell_type": "code",
   "execution_count": null,
   "id": "fc8e321e",
   "metadata": {},
   "outputs": [],
   "source": [
    "df_cta= df_cta.rename(columns={'variable':'Cultivo',\"value\":\"Precipitacion\"})\n",
    "df_cta"
   ]
  },
  {
   "cell_type": "code",
   "execution_count": null,
   "id": "de7d771c",
   "metadata": {},
   "outputs": [],
   "source": [
    "new_df2 = pd.merge(df_eta, df_cta,  how='left', left_on=['anio','Cultivo'], right_on = ['anio','Cultivo'])\n",
    "new_df2"
   ]
  },
  {
   "cell_type": "markdown",
   "id": "312c0894",
   "metadata": {},
   "source": [
    "una vez finalizado esto se repite para la otra zona geografica y asi llegamos finalmente al set de datos total con el cual trabajaremos "
   ]
  },
  {
   "cell_type": "code",
   "execution_count": null,
   "id": "a62aec23",
   "metadata": {},
   "outputs": [],
   "source": [
    "from utils import *\n",
    "dfn = pd.read_excel(\"Datos_totales.xlsx\")\n",
    "dfn"
   ]
  },
  {
   "cell_type": "code",
   "execution_count": null,
   "id": "0d7800d1",
   "metadata": {},
   "outputs": [],
   "source": [
    "#borramos la columna Unnamed\n",
    "del(dfn['Unnamed: 0'])"
   ]
  },
  {
   "cell_type": "code",
   "execution_count": null,
   "id": "695ff2ae",
   "metadata": {},
   "outputs": [],
   "source": [
    "dfn.info()"
   ]
  },
  {
   "cell_type": "code",
   "execution_count": null,
   "id": "3204e7a4",
   "metadata": {},
   "outputs": [],
   "source": [
    "#vemos un poco los datos y como se distribuyen\n",
    "dfn.describe()\n"
   ]
  },
  {
   "cell_type": "code",
   "execution_count": null,
   "id": "9d407c10",
   "metadata": {},
   "outputs": [],
   "source": [
    "#hacemos un heat map para ver si hay correlaciones entre algunas de las columnas\n",
    "plt.figure(figsize=(15,15))\n",
    "cor=dfn.corr()\n",
    "sns.heatmap(cor, annot=True, linewidths=2)\n",
    "plt.show()"
   ]
  },
  {
   "cell_type": "code",
   "execution_count": null,
   "id": "e8065212",
   "metadata": {},
   "outputs": [],
   "source": [
    "# Como nuestra busqueda se centra en intentar ver la relacion entre las precipitaciones y el rendimiento \n",
    "# vemos su relacion en grafico\n",
    "plt.scatter(dfn[\"Precipitacion\"], dfn[\"Rendimiento\"])\n",
    "plt.xlabel(\"Precipitaciones (mm)\")\n",
    "plt.ylabel(\"Rendimiento cultivo\")\n",
    "plt.show()"
   ]
  },
  {
   "cell_type": "code",
   "execution_count": null,
   "id": "2eba9b81",
   "metadata": {},
   "outputs": [],
   "source": [
    "#hacemos un joinplot para ver mejor como se distribuyen las variables rendimiento y precipitaciones\n",
    "jointplot=sns.jointplot(data=dfn, x=\"Precipitacion\", y =\"Rendimiento\")\n",
    "jointplot.plot_joint(sns.kdeplot, levels=5)\n",
    "jointplot.fig.set_figwidth(15)"
   ]
  },
  {
   "cell_type": "code",
   "execution_count": null,
   "id": "8b225717",
   "metadata": {},
   "outputs": [],
   "source": [
    "# Gráfico de distribución para cada variable numérica\n",
    "# ==============================================================================\n",
    "# Ajustar número de subplots en función del número de columnas\n",
    "fig, axes = plt.subplots(nrows=3, ncols=3, figsize=(13, 7))\n",
    "axes = axes.flat\n",
    "columnas_numeric = dfn.select_dtypes(include=['float64', 'int']).columns\n",
    "columnas_numeric = columnas_numeric.drop('Rendimiento')\n",
    "\n",
    "for i, colum in enumerate(columnas_numeric):\n",
    "    sns.regplot(\n",
    "        x           = dfn[colum],\n",
    "        y           = dfn['Rendimiento'],\n",
    "        color       = \"gray\",\n",
    "        marker      = '.',\n",
    "        scatter_kws = {\"alpha\":0.4},\n",
    "        line_kws    = {\"color\":\"r\",\"alpha\":0.7},\n",
    "        ax          = axes[i]\n",
    "    )\n",
    "    axes[i].set_title(f\"Rendimiento vs {colum}\", fontsize = 7, fontweight = \"bold\")\n",
    "    #axes[i].ticklabel_format(style='sci', scilimits=(-4,4), axis='both')\n",
    "    axes[i].yaxis.set_major_formatter\n",
    "    axes[i].xaxis.set_major_formatter\n",
    "    axes[i].tick_params(labelsize = 6)\n",
    "    axes[i].set_xlabel(\"\")\n",
    "    axes[i].set_ylabel(\"\")\n",
    "\n",
    "# Se eliminan los axes vacíos\n",
    "for i in [8]:\n",
    "    fig.delaxes(axes[i])\n",
    "    \n",
    "fig.tight_layout()\n",
    "plt.subplots_adjust(top=0.9)\n",
    "fig.suptitle('Correlación con Rendimiento', fontsize = 10, fontweight = \"bold\");"
   ]
  },
  {
   "cell_type": "code",
   "execution_count": null,
   "id": "17a5a264",
   "metadata": {},
   "outputs": [],
   "source": [
    "#Vemos la distribucion de nuestra variable objetivo.\n",
    "fig, axes = plt.subplots(nrows=3, ncols=1, figsize=(6, 6))\n",
    "sns.distplot(\n",
    "    dfn.Rendimiento,\n",
    "    hist    = False,\n",
    "    rug     = True,\n",
    "    color   = \"blue\",\n",
    "    kde_kws = {'shade': True, 'linewidth': 1},\n",
    "    ax      = axes[0]\n",
    ")\n",
    "axes[0].set_title(\"Distribución original\", fontsize = 'medium')\n",
    "axes[0].set_xlabel('Rendimiento', fontsize='small') \n",
    "axes[0].tick_params(labelsize = 6)\n",
    "\n",
    "sns.distplot(\n",
    "    np.sqrt(dfn.Rendimiento),\n",
    "    hist    = False,\n",
    "    rug     = True,\n",
    "    color   = \"blue\",\n",
    "    kde_kws = {'shade': True, 'linewidth': 1},\n",
    "    ax      = axes[1]\n",
    ")\n",
    "axes[1].set_title(\"Transformación raíz cuadrada\", fontsize = 'medium')\n",
    "axes[1].set_xlabel('sqrt(Rendimiento)', fontsize='small') \n",
    "axes[1].tick_params(labelsize = 6)\n",
    "\n",
    "sns.distplot(\n",
    "    np.log(dfn.Rendimiento),\n",
    "    hist    = False,\n",
    "    rug     = True,\n",
    "    color   = \"blue\",\n",
    "    kde_kws = {'shade': True, 'linewidth': 1},\n",
    "    ax      = axes[2]\n",
    ")\n",
    "axes[2].set_title(\"Transformación logarítmica\", fontsize = 'medium')\n",
    "axes[2].set_xlabel('log(Rendimiento)', fontsize='small') \n",
    "axes[2].tick_params(labelsize = 6)\n",
    "\n",
    "fig.tight_layout()"
   ]
  },
  {
   "cell_type": "markdown",
   "id": "4b6aff5e",
   "metadata": {},
   "source": [
    "Se observa que la distrución de la variable \"Rendimiento\", y tiene una distribución bastante simétrica y se decide explorarla sin transformarla."
   ]
  },
  {
   "cell_type": "code",
   "execution_count": null,
   "id": "b0ef721b",
   "metadata": {},
   "outputs": [],
   "source": [
    "\n",
    "#Definimos nuestra variable objetivo y separamos el Dataset para el entrenamiento\n",
    "X = dfn.drop(\"Rendimiento\", axis=1)\n",
    "y=df_data.Rendimiento"
   ]
  },
  {
   "cell_type": "code",
   "execution_count": null,
   "id": "56b54219",
   "metadata": {},
   "outputs": [],
   "source": [
    "#importamos el train test split y separamos el dataset para entrenamiento y testeo\n",
    "from sklearn.model_selection import train_test_split\n",
    "X_train, X_test, y_train, y_test = train_test_split(X, y, test_size=0.3, random_state=1)"
   ]
  },
  {
   "cell_type": "code",
   "execution_count": null,
   "id": "e3b95173",
   "metadata": {},
   "outputs": [],
   "source": []
  },
  {
   "cell_type": "code",
   "execution_count": null,
   "id": "71351130",
   "metadata": {},
   "outputs": [],
   "source": [
    "#comenzamos utilizando un modelo de regresion lineal y medir el tiempo de cada algoritmo\n",
    "\n",
    "inicio = time.time()\n",
    "from sklearn.linear_model import LinearRegression\n",
    "regressor = LinearRegression()\n",
    "regressor.fit(X_train, y_train)\n",
    "fin = time.time()\n",
    "print(fin-inicio)"
   ]
  },
  {
   "cell_type": "code",
   "execution_count": null,
   "id": "d2e76d07",
   "metadata": {},
   "outputs": [],
   "source": [
    "#Hacemos nuestras predicciones\n",
    "y_pred = regressor.predict(X_test)\n",
    "y_pred"
   ]
  },
  {
   "cell_type": "code",
   "execution_count": null,
   "id": "ec073c0a",
   "metadata": {},
   "outputs": [],
   "source": [
    "#Armamos un Df comparativo\n",
    "comp=pd.DataFrame({\"real\": y_test, \"preds\":y_pred})\n",
    "comp"
   ]
  },
  {
   "cell_type": "markdown",
   "id": "0fdc21d4",
   "metadata": {},
   "source": [
    "Calculamos el R2 (utilizaremos esta medida para ver el grado de error) El coeficiente de determinación, o R² está estrechamente relacionada con la MSE,tiene la ventaja de estar libre de escala R2=1-(MSE(modelo)/MSE(baseline))"
   ]
  },
  {
   "cell_type": "markdown",
   "id": "a4e2b721",
   "metadata": {},
   "source": [
    "Tambien calcularemos el MAE, Esta métrica de regresión es el valor medio de la diferencia absoluta entre el valor real y el valor predicho."
   ]
  },
  {
   "cell_type": "code",
   "execution_count": null,
   "id": "5babfb95",
   "metadata": {},
   "outputs": [],
   "source": [
    "from sklearn.metrics import r2_score\n",
    "from sklearn.metrics import mean_absolute_error\n",
    "r2= r2_score(y_test,y_pred)\n",
    "r2"
   ]
  },
  {
   "cell_type": "code",
   "execution_count": null,
   "id": "8800a0f0",
   "metadata": {},
   "outputs": [],
   "source": [
    "MAE= mean_absolute_error(y_test,y_pred)\n",
    "MAE"
   ]
  },
  {
   "cell_type": "markdown",
   "id": "b2377d6c",
   "metadata": {},
   "source": [
    "Ahora probaremos otros modelos y compararemos"
   ]
  },
  {
   "cell_type": "code",
   "execution_count": null,
   "id": "d5fca8c3",
   "metadata": {},
   "outputs": [],
   "source": [
    "#Probamos el Decision tree Regressor\n",
    "\n",
    "inicio = time.time()\n",
    "from sklearn.tree import DecisionTreeRegressor\n",
    "model2=DecisionTreeRegressor(random_state=1)\n",
    "model2.fit(X_train, y_train)\n",
    "fin = time.time()\n",
    "print(fin-inicio)"
   ]
  },
  {
   "cell_type": "code",
   "execution_count": null,
   "id": "d9d774c2",
   "metadata": {},
   "outputs": [],
   "source": [
    "y_pred2=model2.predict(X_test)\n",
    "comp2=pd.DataFrame({\"real\": y_test, \"pred\":y_pred2})\n",
    "comp2"
   ]
  },
  {
   "cell_type": "code",
   "execution_count": null,
   "id": "ef001498",
   "metadata": {},
   "outputs": [],
   "source": [
    "r2= r2_score(y_test,y_pred2)\n",
    "r2"
   ]
  },
  {
   "cell_type": "code",
   "execution_count": null,
   "id": "15a3afa8",
   "metadata": {},
   "outputs": [],
   "source": [
    "MAE= mean_absolute_error(y_test,y_pred2)\n",
    "MAE"
   ]
  },
  {
   "cell_type": "code",
   "execution_count": null,
   "id": "c5572b4c",
   "metadata": {},
   "outputs": [],
   "source": [
    "#Probaremos el Random Forest Regressor\n",
    "\n",
    "inicio = time.time()\n",
    "from sklearn.ensemble import RandomForestRegressor\n",
    "model3=RandomForestRegressor(random_state=1)\n",
    "model3.fit(X_train, y_train)\n",
    "fin = time.time()\n",
    "print(fin-inicio)"
   ]
  },
  {
   "cell_type": "code",
   "execution_count": null,
   "id": "97a38a89",
   "metadata": {},
   "outputs": [],
   "source": [
    "y_pred3=model3.predict(X_test)\n",
    "comp3=pd.DataFrame({\"real\": y_test, \"pred\":y_pred3})\n",
    "comp3"
   ]
  },
  {
   "cell_type": "code",
   "execution_count": null,
   "id": "90b7fbf8",
   "metadata": {},
   "outputs": [],
   "source": [
    "r2= r2_score(y_test,y_pred3)\n",
    "r2"
   ]
  },
  {
   "cell_type": "code",
   "execution_count": null,
   "id": "df19dee6",
   "metadata": {},
   "outputs": [],
   "source": [
    "MAE= mean_absolute_error(y_test,y_pred3)\n",
    "MAE"
   ]
  },
  {
   "cell_type": "code",
   "execution_count": null,
   "id": "6daa4eab",
   "metadata": {},
   "outputs": [],
   "source": [
    "\n",
    "inicio = time.time()\n",
    "from sklearn import svm\n",
    "svm_reg= svm.SVR()\n",
    "regressor=svm_reg.fit(X_train, y_train)\n",
    "y_pred4=regressor.predict(X_test)\n",
    "fin = time.time()\n",
    "print(fin-inicio)"
   ]
  },
  {
   "cell_type": "code",
   "execution_count": null,
   "id": "257445fe",
   "metadata": {},
   "outputs": [],
   "source": [
    "comp4=pd.DataFrame({\"real\": y_test, \"pred\":y_pred4})\n",
    "comp4.sample(10)"
   ]
  },
  {
   "cell_type": "code",
   "execution_count": null,
   "id": "7eea117a",
   "metadata": {},
   "outputs": [],
   "source": [
    "r2= r2_score(y_test,y_pred4)\n",
    "r2"
   ]
  },
  {
   "cell_type": "code",
   "execution_count": null,
   "id": "a4a5a762",
   "metadata": {},
   "outputs": [],
   "source": [
    "MAE= mean_absolute_error(y_test,y_pred4)\n",
    "MAE"
   ]
  },
  {
   "cell_type": "code",
   "execution_count": null,
   "id": "98e4b859",
   "metadata": {},
   "outputs": [],
   "source": [
    "inicio = time.time()\n",
    "from sklearn.neighbors import KNeighborsRegressor\n",
    "KNN_reg=KNeighborsRegressor(n_neighbors=5)\n",
    "regressor=KNN_reg.fit(X_train, y_train)\n",
    "y_pred5=regressor.predict(X_test)\n",
    "fin = time.time()\n",
    "print(fin-inicio)"
   ]
  },
  {
   "cell_type": "code",
   "execution_count": null,
   "id": "2e5793d3",
   "metadata": {},
   "outputs": [],
   "source": [
    "comp5=pd.DataFrame({\"real\": y_test, \"pred\":y_pred5})\n",
    "comp5.sample(10)"
   ]
  },
  {
   "cell_type": "code",
   "execution_count": null,
   "id": "3454fce4",
   "metadata": {},
   "outputs": [],
   "source": [
    "r2= r2_score(y_test,y_pred5)\n",
    "r2"
   ]
  },
  {
   "cell_type": "code",
   "execution_count": null,
   "id": "3996af4b",
   "metadata": {},
   "outputs": [],
   "source": [
    "MAE= mean_absolute_error(y_test,y_pred5)\n",
    "MAE"
   ]
  },
  {
   "cell_type": "code",
   "execution_count": null,
   "id": "b177c448",
   "metadata": {},
   "outputs": [],
   "source": [
    "#Probamos algunas tecnicas de Stacking (Ensamblar mas de 1 modelo para mejorar un resultado)\n",
    "#Definimos que modelos vamos a combinar\n",
    "lr = LinearRegression()\n",
    "knn = KNeighborsRegressor(n_neighbors=5)\n",
    "rf = RandomForestRegressor(random_state=1)"
   ]
  },
  {
   "cell_type": "code",
   "execution_count": null,
   "id": "bebf3f8f",
   "metadata": {},
   "outputs": [],
   "source": [
    "# Se combinan los modelos\n",
    "estimators = [(\"Linear Regression\", lr), (\"KNN\", knn), (\"Random Forest\", rf)]"
   ]
  },
  {
   "cell_type": "code",
   "execution_count": null,
   "id": "c6ecbfba",
   "metadata": {},
   "outputs": [],
   "source": [
    "#importamos la tecnica de ensamble\n",
    "from sklearn.ensemble import StackingRegressor"
   ]
  },
  {
   "cell_type": "code",
   "execution_count": null,
   "id": "3f8fbed6",
   "metadata": {},
   "outputs": [],
   "source": [
    "#Define the super model whit a meta-stimator which is just another linear regression\n",
    "inicio = time.time()\n",
    "ensemble= StackingRegressor(estimators=estimators, final_estimator=lr)\n",
    "#entrenamos el super-modelo\n",
    "ensemble.fit(X_train, y_train)\n",
    "fin = time.time()\n",
    "print(fin-inicio)"
   ]
  },
  {
   "cell_type": "code",
   "execution_count": null,
   "id": "34e9c6ac",
   "metadata": {},
   "outputs": [],
   "source": [
    "#entrenamos el super-modelo\n",
    "ensemble.fit(X_train, y_train)"
   ]
  },
  {
   "cell_type": "code",
   "execution_count": null,
   "id": "ac0af673",
   "metadata": {},
   "outputs": [],
   "source": [
    "#evaluamos el super-modelo\n",
    "y_pred_ens=ensemble.predict(X_test)"
   ]
  },
  {
   "cell_type": "code",
   "execution_count": null,
   "id": "ad1bc8cb",
   "metadata": {},
   "outputs": [],
   "source": [
    "#vemos algunos resultados\n",
    "comp_ens=pd.DataFrame({\"real\": y_test, \"pred\":y_pred_ens})\n",
    "comp_ens.sample(10)"
   ]
  },
  {
   "cell_type": "code",
   "execution_count": null,
   "id": "2d0865c2",
   "metadata": {},
   "outputs": [],
   "source": [
    "#calculamos nuestro R2 del super-modelo\n",
    "r2= r2_score(y_test,y_pred_ens)\n",
    "r2"
   ]
  },
  {
   "cell_type": "code",
   "execution_count": null,
   "id": "33e11af1",
   "metadata": {},
   "outputs": [],
   "source": [
    "MAE= mean_absolute_error(y_test,y_pred_ens)\n",
    "MAE"
   ]
  },
  {
   "cell_type": "markdown",
   "id": "80e3a946",
   "metadata": {},
   "source": [
    "Se logro una mejora importante con el ensamble de modelos pero vemos a un costo computacional alto"
   ]
  },
  {
   "cell_type": "code",
   "execution_count": null,
   "id": "8b0c3cc1",
   "metadata": {},
   "outputs": [],
   "source": [
    "from sklearn import model_selection\n",
    "from sklearn.metrics import r2_score"
   ]
  },
  {
   "cell_type": "code",
   "execution_count": null,
   "id": "5af1045c",
   "metadata": {},
   "outputs": [],
   "source": [
    "#ahora probamos un K-Cross validation para ver si el modelo responde de la misma manera siempre\n",
    "models = []\n",
    "models.append(('lr', LinearRegression()))\n",
    "models.append(('knn' , KNeighborsRegressor(n_neighbors=5)))\n",
    "models.append(('rf' , RandomForestRegressor(random_state=1)))\n",
    "models.append(('ensemble', StackingRegressor(estimators=estimators, final_estimator=lr)))\n",
    "print(models)"
   ]
  },
  {
   "cell_type": "code",
   "execution_count": null,
   "id": "46e1aba8",
   "metadata": {},
   "outputs": [],
   "source": [
    "results = []\n",
    "names = []\n",
    "for name, model in models:\n",
    "    kfold = model_selection.KFold(n_splits=6, random_state=None)\n",
    "    cv_results = model_selection.cross_val_score(model, X_train, y_train, cv=kfold, scoring='r2')\n",
    "    results.append(cv_results)\n",
    "    names.append(name)\n",
    "    msg = \"%s: %f (%f)\" % (name, cv_results.mean(), cv_results.std())\n",
    "    print(msg)"
   ]
  },
  {
   "cell_type": "code",
   "execution_count": null,
   "id": "bc0e1ffa",
   "metadata": {},
   "outputs": [],
   "source": [
    "results = []\n",
    "names = []\n",
    "for name, model in models:\n",
    "    kfold = model_selection.KFold(n_splits=6, random_state=None)\n",
    "    cv_results = model_selection.cross_val_score(model, X_train, y_train, cv=kfold, scoring='neg_mean_absolute_error')\n",
    "    results.append(cv_results)\n",
    "    names.append(name)\n",
    "    msg = \"%s: %f (%f)\" % (name, cv_results.mean(), cv_results.std())\n",
    "    print(msg)"
   ]
  },
  {
   "cell_type": "markdown",
   "id": "1025df86",
   "metadata": {},
   "source": [
    "Observamosque luego de correr el K-fold CrossValidation en un split de 6, luego de entrenar varias veces las prubas siguen siendo consistentes, tanto para el modelo de ensamble como los otros modelos y sus metricas."
   ]
  },
  {
   "cell_type": "code",
   "execution_count": null,
   "id": "cba72fec",
   "metadata": {},
   "outputs": [],
   "source": [
    "fig = plt.figure()\n",
    "fig.suptitle('Algorithm Comparison')\n",
    "ax = fig.add_subplot(111)\n",
    "plt.boxplot(results)\n",
    "ax.set_xticklabels(names)\n",
    "plt.show()"
   ]
  },
  {
   "cell_type": "code",
   "execution_count": null,
   "id": "350e01b4",
   "metadata": {},
   "outputs": [],
   "source": [
    "# Realizamos una PowerTransformation para evaluar como actuan los algoritmos"
   ]
  },
  {
   "cell_type": "code",
   "execution_count": null,
   "id": "00737d88",
   "metadata": {},
   "outputs": [],
   "source": [
    "from sklearn.preprocessing import PowerTransformer\n",
    "power_transformer = PowerTransformer(method='yeo-johnson')"
   ]
  },
  {
   "cell_type": "code",
   "execution_count": null,
   "id": "9e836a25",
   "metadata": {},
   "outputs": [],
   "source": [
    "X_trans = X.copy(deep=True)\n",
    "X_trans = power_transformer.fit_transform(X_trans)"
   ]
  },
  {
   "cell_type": "code",
   "execution_count": null,
   "id": "8c7ba6d1",
   "metadata": {},
   "outputs": [],
   "source": [
    "X_train_trans, X_test_trans, y_train_trans, y_test_trans = train_test_split(X_trans, y, test_size=0.2, random_state=1)"
   ]
  },
  {
   "cell_type": "code",
   "execution_count": null,
   "id": "5fc8358f",
   "metadata": {},
   "outputs": [],
   "source": [
    "inicio = time.time()\n",
    "model_3 = LinearRegression()\n",
    "model_3.fit(X_train_trans, y_train_trans)\n",
    "fin = time.time()\n",
    "print(fin-inicio)"
   ]
  },
  {
   "cell_type": "code",
   "execution_count": null,
   "id": "443adb05",
   "metadata": {},
   "outputs": [],
   "source": [
    "yhat_trans = model_3.predict(X_test_trans)"
   ]
  },
  {
   "cell_type": "code",
   "execution_count": null,
   "id": "cf858b8b",
   "metadata": {},
   "outputs": [],
   "source": [
    "import sklearn.metrics as metrics\n",
    "r2_3 = metrics.r2_score(y_test_trans, yhat_trans)\n",
    "print('R Square: %3f' % r2_3)"
   ]
  },
  {
   "cell_type": "code",
   "execution_count": null,
   "id": "2b542b6e",
   "metadata": {},
   "outputs": [],
   "source": [
    "MAE= mean_absolute_error(y_test_trans,yhat_trans)\n",
    "MAE"
   ]
  },
  {
   "cell_type": "code",
   "execution_count": null,
   "id": "6f39153c",
   "metadata": {},
   "outputs": [],
   "source": [
    "inicio = time.time()\n",
    "from sklearn.tree import DecisionTreeRegressor\n",
    "model4=DecisionTreeRegressor(random_state=1)\n",
    "model4.fit(X_train_trans, y_train_trans)\n",
    "fin = time.time()\n",
    "print(fin-inicio)"
   ]
  },
  {
   "cell_type": "code",
   "execution_count": null,
   "id": "c2cc7973",
   "metadata": {},
   "outputs": [],
   "source": [
    "y_pred8=model4.predict(X_test_trans)\n",
    "comp8=pd.DataFrame({\"real\": y_test_trans, \"pred\":y_pred8})\n",
    "comp8"
   ]
  },
  {
   "cell_type": "code",
   "execution_count": null,
   "id": "8ab2bf4b",
   "metadata": {},
   "outputs": [],
   "source": [
    "r2= r2_score(y_test_trans,y_pred8)\n",
    "r2"
   ]
  },
  {
   "cell_type": "code",
   "execution_count": null,
   "id": "02e48534",
   "metadata": {},
   "outputs": [],
   "source": [
    "MAE= mean_absolute_error(y_test_trans,y_pred8)\n",
    "MAE"
   ]
  },
  {
   "cell_type": "code",
   "execution_count": null,
   "id": "656b66f0",
   "metadata": {},
   "outputs": [],
   "source": [
    "inicio = time.time()\n",
    "from sklearn.ensemble import RandomForestRegressor\n",
    "model19=RandomForestRegressor(random_state=1)\n",
    "model19.fit(X_train_trans, y_train_trans)\n",
    "fin = time.time()\n",
    "print(fin-inicio)"
   ]
  },
  {
   "cell_type": "code",
   "execution_count": null,
   "id": "2bda9c4c",
   "metadata": {},
   "outputs": [],
   "source": [
    "y_pred19=model19.predict(X_test_trans)\n",
    "comp19=pd.DataFrame({\"real\": y_test_trans, \"pred\":y_pred19})\n",
    "comp19"
   ]
  },
  {
   "cell_type": "code",
   "execution_count": null,
   "id": "11810cda",
   "metadata": {},
   "outputs": [],
   "source": [
    "r2= r2_score(y_test_trans,y_pred19)\n",
    "r2"
   ]
  },
  {
   "cell_type": "code",
   "execution_count": null,
   "id": "2c33dd82",
   "metadata": {},
   "outputs": [],
   "source": [
    "MAE= mean_absolute_error(y_test_trans,y_pred19)\n",
    "MAE"
   ]
  },
  {
   "cell_type": "code",
   "execution_count": null,
   "id": "09295028",
   "metadata": {},
   "outputs": [],
   "source": [
    "inicio = time.time()\n",
    "from sklearn import svm\n",
    "svm_reg= svm.SVR()\n",
    "regressor=svm_reg.fit(X_train_trans, y_train_trans)\n",
    "y_pred20=regressor.predict(X_test_trans)\n",
    "fin = time.time()\n",
    "print(fin-inicio)"
   ]
  },
  {
   "cell_type": "code",
   "execution_count": null,
   "id": "26f2bf6f",
   "metadata": {},
   "outputs": [],
   "source": [
    "comp20=pd.DataFrame({\"real\": y_test_trans, \"pred\":y_pred20})\n",
    "comp20.sample(10)"
   ]
  },
  {
   "cell_type": "code",
   "execution_count": null,
   "id": "8841ee86",
   "metadata": {},
   "outputs": [],
   "source": [
    "r2= r2_score(y_test_trans,y_pred20)\n",
    "r2"
   ]
  },
  {
   "cell_type": "code",
   "execution_count": null,
   "id": "32ea38b2",
   "metadata": {},
   "outputs": [],
   "source": [
    "MAE= mean_absolute_error(y_test_trans,y_pred20)\n",
    "MAE"
   ]
  },
  {
   "cell_type": "code",
   "execution_count": null,
   "id": "c3749a66",
   "metadata": {},
   "outputs": [],
   "source": [
    "inicio = time.time()\n",
    "from sklearn.neighbors import KNeighborsRegressor\n",
    "KNN_reg=KNeighborsRegressor(n_neighbors=5)\n",
    "regressor=KNN_reg.fit(X_train_trans, y_train_trans)\n",
    "y_pred21=regressor.predict(X_test_trans)\n",
    "fin = time.time()\n",
    "print(fin-inicio)"
   ]
  },
  {
   "cell_type": "code",
   "execution_count": null,
   "id": "a269eaff",
   "metadata": {},
   "outputs": [],
   "source": [
    "comp21=pd.DataFrame({\"real\": y_test_trans, \"pred\":y_pred21})\n",
    "comp21.sample(10)"
   ]
  },
  {
   "cell_type": "code",
   "execution_count": null,
   "id": "317d6bb0",
   "metadata": {},
   "outputs": [],
   "source": [
    "r2= r2_score(y_test_trans,y_pred21)\n",
    "r2"
   ]
  },
  {
   "cell_type": "code",
   "execution_count": null,
   "id": "7e459d4a",
   "metadata": {},
   "outputs": [],
   "source": [
    "MAE= mean_absolute_error(y_test_trans,y_pred21)\n",
    "MAE"
   ]
  },
  {
   "cell_type": "markdown",
   "id": "dedd8362",
   "metadata": {},
   "source": [
    "Ahora se procede a comparar los tiempos, R2, MAE de cada Algoritmo y su transformación\n",
    "Se realizo dos DataFrame con los resultados"
   ]
  },
  {
   "cell_type": "code",
   "execution_count": null,
   "id": "86bc4e6a",
   "metadata": {},
   "outputs": [],
   "source": [
    "df_rrss = pd.read_csv(\"df_rrss.csv\")\n",
    "df_rrss"
   ]
  },
  {
   "cell_type": "code",
   "execution_count": null,
   "id": "f72769ee",
   "metadata": {},
   "outputs": [],
   "source": [
    "df_rrss = df_rrss.drop(\"Unnamed: 0\", axis=1)\n",
    "df_rrss"
   ]
  },
  {
   "cell_type": "code",
   "execution_count": null,
   "id": "423ffefd",
   "metadata": {},
   "outputs": [],
   "source": [
    "df_rrss2 = pd.read_csv(\"df_rrss2.csv\")\n",
    "df_rrss2"
   ]
  },
  {
   "cell_type": "code",
   "execution_count": null,
   "id": "e3127e3f",
   "metadata": {},
   "outputs": [],
   "source": [
    "df_rrss2 = df_rrss2.drop(\"Unnamed: 0\", axis=1)\n",
    "df_rrss2"
   ]
  },
  {
   "cell_type": "code",
   "execution_count": null,
   "id": "1cf4a13e",
   "metadata": {},
   "outputs": [],
   "source": [
    "plt.plot(df_rrss.method, df_rrss.time, 'b-', marker='o' )\n",
    "plt.xlabel('Algorithms')\n",
    "plt.ylabel(\"Time\")"
   ]
  },
  {
   "cell_type": "code",
   "execution_count": null,
   "id": "a38f53f3",
   "metadata": {},
   "outputs": [],
   "source": [
    "plt.plot(df_rrss2.method, df_rrss2.time, 'b-', marker='o' )\n",
    "plt.xlabel('Algorithms PowerT')\n",
    "plt.ylabel(\"Time\")"
   ]
  },
  {
   "cell_type": "code",
   "execution_count": null,
   "id": "de34348f",
   "metadata": {},
   "outputs": [],
   "source": [
    "plt.plot(df_rrss.method, df_rrss.MAE, 'b-', marker='o' )\n",
    "plt.xlabel('Algorithms')\n",
    "plt.ylabel(\"MAE\")"
   ]
  },
  {
   "cell_type": "code",
   "execution_count": null,
   "id": "38c05c4d",
   "metadata": {},
   "outputs": [],
   "source": [
    "plt.plot(df_rrss2.method, df_rrss2.MAE, 'b-', marker='o' )\n",
    "plt.xlabel('Algorithms PowerT')\n",
    "plt.ylabel(\"MAE\")"
   ]
  },
  {
   "cell_type": "code",
   "execution_count": null,
   "id": "83336ddf",
   "metadata": {},
   "outputs": [],
   "source": [
    "plt.plot(df_rrss.method, df_rrss.R2, 'b-', marker='o' )\n",
    "plt.xlabel('Algorithms')\n",
    "plt.ylabel(\"R2\")"
   ]
  },
  {
   "cell_type": "code",
   "execution_count": null,
   "id": "a011ac29",
   "metadata": {},
   "outputs": [],
   "source": [
    "plt.plot(df_rrss2.method, df_rrss2.R2, 'b-', marker='o' )\n",
    "plt.xlabel('Algorithms PowerT')\n",
    "plt.ylabel(\"R2\")"
   ]
  },
  {
   "cell_type": "markdown",
   "id": "b1bb2fea",
   "metadata": {},
   "source": [
    "Se puede obserbar en las gráficas que el algoritmo mayor beneficiado con la transformación fue el LR, quien mejoro su R2 y MAE.  Asimismo por diferencia de computo y mejor R2 y MAE el KNN sigue obteniendo mejores valores.  Tambien debe tenerse en cuanto a performace en testing y k-fold el modelo de ensamble, si bien no tiene un tiempo optimo computacional, arroja los mejores resultados en las metricas."
   ]
  },
  {
   "cell_type": "code",
   "execution_count": null,
   "id": "2a8a72d1",
   "metadata": {},
   "outputs": [],
   "source": [
    "comp_ens\n",
    "plt.figure(figsize=(15,7.5))\n",
    "\n",
    "sns.kdeplot(data=comp_ens, x='real', c='b', linewidth=2)\n",
    "sns.kdeplot(data=comp_ens, x='pred', c='r', linewidth=2, linestyle='--')\n",
    "plt.xlim(100,5000)\n",
    "plt.title('Prediciones Vs Real - Modelo Ensamblado', fontsize=25)\n",
    "plt.show()"
   ]
  },
  {
   "cell_type": "markdown",
   "id": "7c4a4e0a",
   "metadata": {},
   "source": [
    "  Realizamos la comparación de la mejor linea de predicción ya que un error de 225 kilos por hectarea no es representativo para el negocio. Otorgando una predicción muy aceptable.  \n",
    "  En cuanto al tiempo de computo no es un inconveniente porque los plazos de cada cultivo otorga un margen considerable para el reproceso del mismo.  Ahora al uso de las variables utilizadas, y el tratamiento otorgado permitieron responder a la problematica planteada de predecir el rendimiento de los cultivos.\n",
    "\n"
   ]
  },
  {
   "cell_type": "code",
   "execution_count": null,
   "id": "4cac54c0",
   "metadata": {},
   "outputs": [],
   "source": []
  }
 ],
 "metadata": {
  "hide_input": false,
  "kernelspec": {
   "display_name": "Python 3 (ipykernel)",
   "language": "python",
   "name": "python3"
  },
  "language_info": {
   "codemirror_mode": {
    "name": "ipython",
    "version": 3
   },
   "file_extension": ".py",
   "mimetype": "text/x-python",
   "name": "python",
   "nbconvert_exporter": "python",
   "pygments_lexer": "ipython3",
   "version": "3.11.4"
  }
 },
 "nbformat": 4,
 "nbformat_minor": 5
}
